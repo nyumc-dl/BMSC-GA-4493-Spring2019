{
 "cells": [
  {
   "cell_type": "markdown",
   "metadata": {},
   "source": [
    "# Deep Learning in Medicine\n",
    "### BMSC-GA 4493, BMIN-GA 3007 \n",
    "### Lab 2: PyTorch Tutorial and Loss Functions\n"
   ]
  },
  {
   "cell_type": "markdown",
   "metadata": {},
   "source": [
    "### Goal of this lab: \n",
    "    - Understand Pytorch Tensor, and AutoGrad (Variable is deprecated in the new version of pytorch). \n",
    "    - Understand Loss Functions"
   ]
  },
  {
   "cell_type": "markdown",
   "metadata": {},
   "source": [
    "### What is PyTorch?\n",
    "It's a Python based scientific computing package targeted as:\n",
    "* A replacement for numpy to use the power of GPUs\n",
    "* A deep learning research platform that provides maximum flexibility and speed"
   ]
  },
  {
   "cell_type": "markdown",
   "metadata": {},
   "source": [
    "### Tensor\n",
    "It is similar to Numpy Ndarray\n",
    "<a href=\"https://docs.scipy.org/doc/numpy/reference/generated/numpy.ndarray.html\">https://docs.scipy.org/doc/numpy/reference/generated/numpy.ndarray.html \n"
   ]
  },
  {
   "cell_type": "code",
   "execution_count": 1,
   "metadata": {},
   "outputs": [],
   "source": [
    "from __future__ import print_function\n",
    "import torch"
   ]
  },
  {
   "cell_type": "markdown",
   "metadata": {},
   "source": [
    "#### Check Version of the Pytorch"
   ]
  },
  {
   "cell_type": "code",
   "execution_count": 2,
   "metadata": {},
   "outputs": [
    {
     "name": "stdout",
     "output_type": "stream",
     "text": [
      "1.0.1\n"
     ]
    }
   ],
   "source": [
    "print(torch.__version__)"
   ]
  },
  {
   "cell_type": "markdown",
   "metadata": {},
   "source": [
    "#### Tensor Initialization"
   ]
  },
  {
   "cell_type": "code",
   "execution_count": 3,
   "metadata": {},
   "outputs": [],
   "source": [
    "x = torch.Tensor(6, 2)  # construct a 6x2 matrix, uninitialized"
   ]
  },
  {
   "cell_type": "code",
   "execution_count": 4,
   "metadata": {},
   "outputs": [
    {
     "data": {
      "text/plain": [
       "(tensor([[1.3733e-14, 6.4076e+07],\n",
       "         [2.0706e-19, 7.3909e+22],\n",
       "         [2.4176e-12, 1.1625e+33],\n",
       "         [8.9605e-01, 1.1632e+33],\n",
       "         [5.6003e-02, 7.0374e+22],\n",
       "         [5.7453e-44, 0.0000e+00]]), torch.Size([6, 2]))"
      ]
     },
     "execution_count": 4,
     "metadata": {},
     "output_type": "execute_result"
    }
   ],
   "source": [
    "x, x.size()"
   ]
  },
  {
   "cell_type": "code",
   "execution_count": 5,
   "metadata": {},
   "outputs": [],
   "source": [
    "y = torch.rand(6, 2)  # construct a randomly initialized matrix\n"
   ]
  },
  {
   "cell_type": "code",
   "execution_count": 6,
   "metadata": {},
   "outputs": [
    {
     "data": {
      "text/plain": [
       "(tensor([[0.1477, 0.9546],\n",
       "         [0.3455, 0.0534],\n",
       "         [0.5053, 0.4830],\n",
       "         [0.4804, 0.5608],\n",
       "         [0.0185, 0.1296],\n",
       "         [0.7158, 0.8613]]), torch.Size([6, 2]))"
      ]
     },
     "execution_count": 6,
     "metadata": {},
     "output_type": "execute_result"
    }
   ],
   "source": [
    "y, y.size()"
   ]
  },
  {
   "cell_type": "code",
   "execution_count": 7,
   "metadata": {},
   "outputs": [],
   "source": [
    "z = torch.ones(7) # construct a matrix of ones"
   ]
  },
  {
   "cell_type": "code",
   "execution_count": 8,
   "metadata": {},
   "outputs": [
    {
     "data": {
      "text/plain": [
       "(tensor([1., 1., 1., 1., 1., 1., 1.]), torch.Size([7]))"
      ]
     },
     "execution_count": 8,
     "metadata": {},
     "output_type": "execute_result"
    }
   ],
   "source": [
    "z, z.size()"
   ]
  },
  {
   "cell_type": "markdown",
   "metadata": {},
   "source": [
    "#### Operation Example: Addtion\n",
    "Related reading and reference:\n",
    "    \n",
    "* PyTorch documentation:\n",
    "<a href=\"http://pytorch.org/docs/0.3.0/\"> http://pytorch.org/docs/0.3.0/ </a>\n"
   ]
  },
  {
   "cell_type": "code",
   "execution_count": 9,
   "metadata": {},
   "outputs": [
    {
     "data": {
      "text/plain": [
       "tensor([[1.4771e-01, 6.4076e+07],\n",
       "        [3.4548e-01, 7.3909e+22],\n",
       "        [5.0533e-01, 1.1625e+33],\n",
       "        [1.3765e+00, 1.1632e+33],\n",
       "        [7.4470e-02, 7.0374e+22],\n",
       "        [7.1580e-01, 8.6125e-01]])"
      ]
     },
     "execution_count": 9,
     "metadata": {},
     "output_type": "execute_result"
    }
   ],
   "source": [
    "# addition: syntax 1\n",
    "x + y"
   ]
  },
  {
   "cell_type": "code",
   "execution_count": 10,
   "metadata": {},
   "outputs": [
    {
     "data": {
      "text/plain": [
       "tensor([[1.4771e-01, 6.4076e+07],\n",
       "        [3.4548e-01, 7.3909e+22],\n",
       "        [5.0533e-01, 1.1625e+33],\n",
       "        [1.3765e+00, 1.1632e+33],\n",
       "        [7.4470e-02, 7.0374e+22],\n",
       "        [7.1580e-01, 8.6125e-01]])"
      ]
     },
     "execution_count": 10,
     "metadata": {},
     "output_type": "execute_result"
    }
   ],
   "source": [
    "# addition: syntax 2\n",
    "torch.add(x, y)"
   ]
  },
  {
   "cell_type": "code",
   "execution_count": 11,
   "metadata": {},
   "outputs": [
    {
     "data": {
      "text/plain": [
       "tensor([[1.4771e-01, 6.4076e+07],\n",
       "        [3.4548e-01, 7.3909e+22],\n",
       "        [5.0533e-01, 1.1625e+33],\n",
       "        [1.3765e+00, 1.1632e+33],\n",
       "        [7.4470e-02, 7.0374e+22],\n",
       "        [7.1580e-01, 8.6125e-01]])"
      ]
     },
     "execution_count": 11,
     "metadata": {},
     "output_type": "execute_result"
    }
   ],
   "source": [
    "# addition: giving an output tensor\n",
    "result = torch.Tensor(6, 2)\n",
    "torch.add(x, y, out=result)"
   ]
  },
  {
   "cell_type": "code",
   "execution_count": 12,
   "metadata": {},
   "outputs": [
    {
     "data": {
      "text/plain": [
       "tensor([[1.4771e-01, 6.4076e+07],\n",
       "        [3.4548e-01, 7.3909e+22],\n",
       "        [5.0533e-01, 1.1625e+33],\n",
       "        [1.3765e+00, 1.1632e+33],\n",
       "        [7.4470e-02, 7.0374e+22],\n",
       "        [7.1580e-01, 8.6125e-01]])"
      ]
     },
     "execution_count": 12,
     "metadata": {},
     "output_type": "execute_result"
    }
   ],
   "source": [
    "# addition: in-place\n",
    "y.add_(x) # adds x to y"
   ]
  },
  {
   "cell_type": "markdown",
   "metadata": {},
   "source": [
    "#### Numpy Bridge:\n",
    "The torch Tensor and numpy array will share their underlying memory locations, and changing one will change the other."
   ]
  },
  {
   "cell_type": "markdown",
   "metadata": {},
   "source": [
    "##### Convert Torch Tensor to Numpy"
   ]
  },
  {
   "cell_type": "code",
   "execution_count": 13,
   "metadata": {
    "scrolled": true
   },
   "outputs": [
    {
     "data": {
      "text/plain": [
       "tensor([1., 1., 1., 1., 1.])"
      ]
     },
     "execution_count": 13,
     "metadata": {},
     "output_type": "execute_result"
    }
   ],
   "source": [
    "a = torch.ones(5)\n",
    "a"
   ]
  },
  {
   "cell_type": "code",
   "execution_count": 14,
   "metadata": {},
   "outputs": [
    {
     "data": {
      "text/plain": [
       "array([1., 1., 1., 1., 1.], dtype=float32)"
      ]
     },
     "execution_count": 14,
     "metadata": {},
     "output_type": "execute_result"
    }
   ],
   "source": [
    "b = a.numpy()\n",
    "b"
   ]
  },
  {
   "cell_type": "code",
   "execution_count": 15,
   "metadata": {},
   "outputs": [
    {
     "name": "stdout",
     "output_type": "stream",
     "text": [
      "tensor([2., 2., 2., 2., 2.])\n",
      "[2. 2. 2. 2. 2.]\n"
     ]
    }
   ],
   "source": [
    "a.add_(1) # Remember this is an inplace addition\n",
    "print(a)\n",
    "print(b) # see how the numpy array changed in value"
   ]
  },
  {
   "cell_type": "markdown",
   "metadata": {},
   "source": [
    "##### Converting Numpy Array to Torch Tensor"
   ]
  },
  {
   "cell_type": "code",
   "execution_count": 16,
   "metadata": {},
   "outputs": [
    {
     "name": "stdout",
     "output_type": "stream",
     "text": [
      "[2. 2. 2. 2. 2.]\n",
      "tensor([2., 2., 2., 2., 2.], dtype=torch.float64)\n"
     ]
    }
   ],
   "source": [
    "import numpy as np\n",
    "a = np.ones(5)\n",
    "b = torch.from_numpy(a)\n",
    "np.add(a, 1, out=a)\n",
    "print(a)\n",
    "print(b)"
   ]
  },
  {
   "cell_type": "markdown",
   "metadata": {},
   "source": [
    "####  Used of CUDA"
   ]
  },
  {
   "cell_type": "code",
   "execution_count": 17,
   "metadata": {},
   "outputs": [],
   "source": [
    "# let us run this cell only if CUDA is available\n",
    "if torch.cuda.is_available():\n",
    "    x = x.cuda()\n",
    "    y = y.cuda()\n",
    "    x + y"
   ]
  },
  {
   "cell_type": "markdown",
   "metadata": {},
   "source": [
    "### Autograd: automatic differentiation\n",
    "* The autograd package provides automatic differentiation for all operations on Tensors.It is a define-by-run framework, which means that your backprop is defined by how your code is run, and that every single iteration can be different.\n",
    "\n",
    "### Tensor\n",
    "* torch.Tensor is the central class of the package. If you set its attribute .requires_grad as True, it starts to track all operations on it.\n",
    "* When you finish your computation you can call .backward() and have all the gradients computed automatically.\n",
    "* The gradient for this tensor will be accumulated into .grad attribute.\n",
    "* To stop a tensor from tracking history, you can call .detach() to detach it from the computation history, and to prevent future computation from being tracked.\n",
    "\n",
    "### Function\n",
    "* Tensor and Function are interconnected and build up an acyclic graph, that encodes a complete history of computation.\n",
    "* Each tensor has a .grad_fn attribute that references a Function that has created the Tensor (except for Tensors created by the user - their grad_fn is None).\n",
    "\n",
    "Related Reading and Reference:\n",
    "<a href=\"http://pytorch.org/docs/autograd\"> http://pytorch.org/docs/autograd </a>"
   ]
  },
  {
   "cell_type": "code",
   "execution_count": 18,
   "metadata": {},
   "outputs": [],
   "source": [
    "import torch"
   ]
  },
  {
   "cell_type": "code",
   "execution_count": 19,
   "metadata": {},
   "outputs": [
    {
     "name": "stdout",
     "output_type": "stream",
     "text": [
      "tensor([[1., 1.],\n",
      "        [1., 1.]], requires_grad=True)\n"
     ]
    }
   ],
   "source": [
    "x = torch.ones((2, 2), requires_grad=True)\n",
    "print(x)"
   ]
  },
  {
   "cell_type": "code",
   "execution_count": 20,
   "metadata": {
    "scrolled": true
   },
   "outputs": [
    {
     "name": "stdout",
     "output_type": "stream",
     "text": [
      "tensor([[3., 3.],\n",
      "        [3., 3.]], grad_fn=<AddBackward0>)\n"
     ]
    }
   ],
   "source": [
    "y = x + 2\n",
    "print(y)"
   ]
  },
  {
   "cell_type": "code",
   "execution_count": 21,
   "metadata": {},
   "outputs": [
    {
     "name": "stdout",
     "output_type": "stream",
     "text": [
      "<AddBackward0 object at 0x000001A65B1FDD30>\n"
     ]
    }
   ],
   "source": [
    "print(y.grad_fn)"
   ]
  },
  {
   "cell_type": "code",
   "execution_count": 22,
   "metadata": {},
   "outputs": [
    {
     "name": "stdout",
     "output_type": "stream",
     "text": [
      "tensor([[18., 18.],\n",
      "        [18., 18.]], grad_fn=<MulBackward0>) tensor(18., grad_fn=<MeanBackward1>)\n"
     ]
    }
   ],
   "source": [
    "z = y * y * 2\n",
    "out = z.mean()\n",
    "print(z, out)"
   ]
  },
  {
   "cell_type": "code",
   "execution_count": 23,
   "metadata": {},
   "outputs": [
    {
     "name": "stdout",
     "output_type": "stream",
     "text": [
      "None\n"
     ]
    }
   ],
   "source": [
    "# What's the gradient of X before backward() is performed?\n",
    "print(x.grad)"
   ]
  },
  {
   "cell_type": "code",
   "execution_count": 24,
   "metadata": {
    "scrolled": true
   },
   "outputs": [
    {
     "name": "stdout",
     "output_type": "stream",
     "text": [
      "tensor([[3., 3.],\n",
      "        [3., 3.]])\n"
     ]
    }
   ],
   "source": [
    "# What's the correct gradient of X?\n",
    "out.backward()\n",
    "print(x.grad)\n",
    "# Question: How do we get these values?"
   ]
  },
  {
   "cell_type": "code",
   "execution_count": 25,
   "metadata": {},
   "outputs": [
    {
     "name": "stdout",
     "output_type": "stream",
     "text": [
      "None\n"
     ]
    }
   ],
   "source": [
    "print(y.grad)"
   ]
  },
  {
   "cell_type": "markdown",
   "metadata": {},
   "source": [
    "### Loss Functions"
   ]
  },
  {
   "cell_type": "markdown",
   "metadata": {},
   "source": [
    " Related Reference: \n",
    "<a href=\"http://pytorch.org/docs/master/nn.html#loss-functions\">http://pytorch.org/docs/master/nn.html#loss-functions </a>"
   ]
  },
  {
   "cell_type": "markdown",
   "metadata": {},
   "source": [
    "#### Mean Squared Error\n",
    "Question: What is mean square error? What are the inputs? What's the output?"
   ]
  },
  {
   "cell_type": "code",
   "execution_count": 26,
   "metadata": {},
   "outputs": [],
   "source": [
    "import torch.nn as nn\n",
    "input = torch.randn((4, 5), requires_grad=True)\n",
    "target = torch.randn(4, 5)"
   ]
  },
  {
   "cell_type": "code",
   "execution_count": 27,
   "metadata": {},
   "outputs": [
    {
     "name": "stdout",
     "output_type": "stream",
     "text": [
      "tensor([[ 0.1854,  1.0707, -0.9566, -0.4854,  1.9234],\n",
      "        [ 0.9923,  1.2198, -1.2548,  0.1432, -0.3485],\n",
      "        [-0.5123,  1.2514,  1.9713,  0.6404, -1.1328],\n",
      "        [-0.3718, -1.5118, -0.3780,  1.2372, -0.4016]], requires_grad=True)\n",
      "tensor([[-0.0778,  0.9957, -1.1715,  0.2000,  0.7641],\n",
      "        [-0.3829,  1.1502, -0.4105, -1.8246, -0.4030],\n",
      "        [ 1.3442,  0.0252,  0.5594, -0.1343,  1.7321],\n",
      "        [ 1.6040, -1.9087,  0.3867,  1.0148, -0.2789]])\n"
     ]
    }
   ],
   "source": [
    "print(input)\n",
    "print(target)"
   ]
  },
  {
   "cell_type": "code",
   "execution_count": 28,
   "metadata": {},
   "outputs": [],
   "source": [
    "loss = nn.MSELoss()\n",
    "output = loss(input, target)\n",
    "output.backward()"
   ]
  },
  {
   "cell_type": "code",
   "execution_count": 29,
   "metadata": {},
   "outputs": [
    {
     "data": {
      "text/plain": [
       "(tensor(1.4440, grad_fn=<MseLossBackward>),\n",
       " tensor([[ 0.1854,  1.0707, -0.9566, -0.4854,  1.9234],\n",
       "         [ 0.9923,  1.2198, -1.2548,  0.1432, -0.3485],\n",
       "         [-0.5123,  1.2514,  1.9713,  0.6404, -1.1328],\n",
       "         [-0.3718, -1.5118, -0.3780,  1.2372, -0.4016]], requires_grad=True))"
      ]
     },
     "execution_count": 29,
     "metadata": {},
     "output_type": "execute_result"
    }
   ],
   "source": [
    "output, input"
   ]
  },
  {
   "cell_type": "markdown",
   "metadata": {},
   "source": [
    "#### Cross Entropy Loss\n",
    "Question: What is cross entropy loss? What are the inputs? What's the output?"
   ]
  },
  {
   "cell_type": "code",
   "execution_count": 30,
   "metadata": {},
   "outputs": [
    {
     "name": "stdout",
     "output_type": "stream",
     "text": [
      "tensor([[-0.5107,  1.0755, -1.4042,  1.2922,  0.5915],\n",
      "        [ 0.0748, -0.1743,  0.8988, -0.0042, -1.2319],\n",
      "        [ 0.6464,  0.4774,  0.2867,  0.6537,  0.6985],\n",
      "        [-0.5710,  0.2478, -0.8205,  0.3325, -1.4923]], requires_grad=True)\n",
      "tensor([4, 1, 3, 2])\n"
     ]
    }
   ],
   "source": [
    "input = torch.randn((4, 5), requires_grad=True)\n",
    "target = torch.LongTensor(4).random_(5)\n",
    "print(input)\n",
    "print(target)"
   ]
  },
  {
   "cell_type": "code",
   "execution_count": 31,
   "metadata": {},
   "outputs": [],
   "source": [
    "# Fill in the code to calculate the cross-entropy loss"
   ]
  },
  {
   "cell_type": "markdown",
   "metadata": {},
   "source": [
    "### Reference:\n",
    "* Deep Learning with PyTorch: A 60 Minute Blitz:\n",
    "    <a href=\"http://pytorch.org/tutorials/beginner/deep_learning_60min_blitz.html\">http://pytorch.org/tutorials/beginner/deep_learning_60min_blitz.html\n",
    "    \n",
    "    \n",
    "* PyTorch documentation:\n",
    "<a href=\"http://pytorch.org/docs/0.3.0/\"> http://pytorch.org/docs/0.3.0/ </a>"
   ]
  }
 ],
 "metadata": {
  "kernelspec": {
   "display_name": "Python 3",
   "language": "python",
   "name": "python3"
  },
  "language_info": {
   "codemirror_mode": {
    "name": "ipython",
    "version": 3
   },
   "file_extension": ".py",
   "mimetype": "text/x-python",
   "name": "python",
   "nbconvert_exporter": "python",
   "pygments_lexer": "ipython3",
   "version": "3.7.2"
  }
 },
 "nbformat": 4,
 "nbformat_minor": 2
}
